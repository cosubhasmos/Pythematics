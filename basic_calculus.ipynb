{
 "cells": [
  {
   "cell_type": "markdown",
   "id": "6da0fed6-6f93-48dc-900b-e619ea308a31",
   "metadata": {},
   "source": [
    "Calculus with Python"
   ]
  },
  {
   "cell_type": "markdown",
   "id": "b250ddd1-7c49-42d2-8f85-c985a775e83e",
   "metadata": {},
   "source": [
    "When it comes to calculus, we spend a lot of time doing integration or diffrentiation. But is there any easier way to do calculus such that we can get our answer in seconds? Yes, let me introduce python for calculus."
   ]
  },
  {
   "cell_type": "markdown",
   "id": "a0f783ce-c741-4d43-a9dd-802391df7fdb",
   "metadata": {},
   "source": [
    "For this you will need a simple python library name $Sympy$, and additional libraries like $matplotlib$, $numpy$, and $scipy$ just in case we use it. To install $sympy$ just hit this command in your terminal : \\\\$pip install sympy"
   ]
  },
  {
   "cell_type": "markdown",
   "id": "cb33c0e1-2f88-4f4a-8c2a-7d57932ce742",
   "metadata": {
    "tags": []
   },
   "source": [
    "So lets just start our tutorial."
   ]
  },
  {
   "cell_type": "code",
   "execution_count": 3,
   "id": "f34298e1-36dc-4688-a3de-de77fbd86490",
   "metadata": {
    "tags": []
   },
   "outputs": [],
   "source": [
    "import numpy as np\n",
    "import scipy as sp\n",
    "import sympy as smp\n",
    "import matplotlib.pyplot as plt\n",
    "from scipy.integrate import quad\n",
    "from scipy.integrate import cumulative_trapezoid"
   ]
  },
  {
   "cell_type": "markdown",
   "id": "f69fd7e6-38d4-4525-a09b-1b3578d5ea71",
   "metadata": {},
   "source": [
    "Here are some examples that you can start with."
   ]
  },
  {
   "cell_type": "markdown",
   "id": "a9504135-1efc-4e8c-b0e1-a63b09f1e3aa",
   "metadata": {},
   "source": [
    "Q1. $f(x) = \\int sin^3(x)$"
   ]
  },
  {
   "cell_type": "code",
   "execution_count": 4,
   "id": "cab1f8a9-c2b8-41e1-a5e0-b1f57dbb1784",
   "metadata": {
    "tags": []
   },
   "outputs": [
    {
     "data": {
      "text/latex": [
       "$\\displaystyle \\sin{\\left(x^{2} \\right)}$"
      ],
      "text/plain": [
       "sin(x**2)"
      ]
     },
     "execution_count": 4,
     "metadata": {},
     "output_type": "execute_result"
    }
   ],
   "source": [
    "x = smp.symbols('x',real=True)\n",
    "smp.sin(x**2)"
   ]
  },
  {
   "cell_type": "markdown",
   "id": "566674f0-37c4-4367-a1ac-d546c2eb5a3e",
   "metadata": {},
   "source": [
    "Q2. $ f(x) = \\int \\dfrac{1}{4 + 5\\cos x}$"
   ]
  },
  {
   "cell_type": "code",
   "execution_count": 8,
   "id": "eddc9425-776f-4892-bf31-22ec7a3ceebb",
   "metadata": {
    "tags": []
   },
   "outputs": [
    {
     "data": {
      "text/latex": [
       "$\\displaystyle - \\frac{\\log{\\left(\\tan{\\left(\\frac{x}{2} \\right)} - 3 \\right)}}{3} + \\frac{\\log{\\left(\\tan{\\left(\\frac{x}{2} \\right)} + 3 \\right)}}{3}$"
      ],
      "text/plain": [
       "-log(tan(x/2) - 3)/3 + log(tan(x/2) + 3)/3"
      ]
     },
     "execution_count": 8,
     "metadata": {},
     "output_type": "execute_result"
    }
   ],
   "source": [
    "f = 1/(4 + 5*smp.cos(x))\n",
    "smp.integrate(f,x)"
   ]
  },
  {
   "cell_type": "markdown",
   "id": "5216830f-11ca-4e93-a131-9171b2c70e69",
   "metadata": {},
   "source": [
    "Q3. $ f(x) = \\int \\dfrac{1}{1 + \\tan x}$"
   ]
  },
  {
   "cell_type": "code",
   "execution_count": 10,
   "id": "47d28cda-2eb5-4ab8-a20c-53a2fbe7d7db",
   "metadata": {
    "tags": []
   },
   "outputs": [
    {
     "data": {
      "text/latex": [
       "$\\displaystyle \\frac{x}{2} + \\frac{\\log{\\left(\\tan{\\left(x \\right)} + 1 \\right)}}{2} - \\frac{\\log{\\left(\\tan^{2}{\\left(x \\right)} + 1 \\right)}}{4}$"
      ],
      "text/plain": [
       "x/2 + log(tan(x) + 1)/2 - log(tan(x)**2 + 1)/4"
      ]
     },
     "execution_count": 10,
     "metadata": {},
     "output_type": "execute_result"
    }
   ],
   "source": [
    "f = 1/(1 + smp.tan(x))\n",
    "smp.integrate(f,x)"
   ]
  },
  {
   "cell_type": "markdown",
   "id": "8f47ef4b-d3a6-4610-b589-0359c73b1c01",
   "metadata": {},
   "source": [
    "Q4.$ f(x) = \\int \\dfrac{x^2 + 1}{x^4 + 1} dx$"
   ]
  },
  {
   "cell_type": "code",
   "execution_count": 9,
   "id": "1d5efa20-c696-4b73-b1b5-3088f7498f09",
   "metadata": {
    "tags": []
   },
   "outputs": [
    {
     "data": {
      "text/latex": [
       "$\\displaystyle \\frac{x^{3}}{3} - \\frac{\\sqrt{2} \\log{\\left(x^{2} - \\sqrt{2} x + 1 \\right)}}{8} + \\frac{\\sqrt{2} \\log{\\left(x^{2} + \\sqrt{2} x + 1 \\right)}}{8} + \\frac{\\sqrt{2} \\operatorname{atan}{\\left(\\sqrt{2} x - 1 \\right)}}{4} + \\frac{\\sqrt{2} \\operatorname{atan}{\\left(\\sqrt{2} x + 1 \\right)}}{4}$"
      ],
      "text/plain": [
       "x**3/3 - sqrt(2)*log(x**2 - sqrt(2)*x + 1)/8 + sqrt(2)*log(x**2 + sqrt(2)*x + 1)/8 + sqrt(2)*atan(sqrt(2)*x - 1)/4 + sqrt(2)*atan(sqrt(2)*x + 1)/4"
      ]
     },
     "execution_count": 9,
     "metadata": {},
     "output_type": "execute_result"
    }
   ],
   "source": [
    "smp.integrate(x**2 + 1 /(x**4 + 1))"
   ]
  },
  {
   "cell_type": "markdown",
   "id": "11646626-0b64-4f6b-824f-98f088415f1e",
   "metadata": {},
   "source": [
    "Q5.$ f(x) = \\int_{1}^2 \\dfrac{x^2 + 1}{x^4 + 1} dx$"
   ]
  },
  {
   "cell_type": "code",
   "execution_count": 11,
   "id": "06b1e609-fa4b-4d1c-95ea-7ebb2a50594f",
   "metadata": {
    "tags": []
   },
   "outputs": [
    {
     "data": {
      "text/latex": [
       "$\\displaystyle 0$"
      ],
      "text/plain": [
       "0"
      ]
     },
     "execution_count": 11,
     "metadata": {},
     "output_type": "execute_result"
    }
   ],
   "source": [
    "smp.integrate(x**2 + 1 /(x**4 + 1),(x,0,0))"
   ]
  },
  {
   "cell_type": "markdown",
   "id": "4c514f66-d011-47d9-8061-60690625b69e",
   "metadata": {},
   "source": [
    "Q6.$f(x) = \\int \\dfrac{1}{e^x+1}$"
   ]
  },
  {
   "cell_type": "code",
   "execution_count": 12,
   "id": "ddd79360-06d3-4bb4-851a-264a41427f03",
   "metadata": {
    "tags": []
   },
   "outputs": [
    {
     "data": {
      "text/latex": [
       "$\\displaystyle x - \\log{\\left(e^{x} + 1 \\right)}$"
      ],
      "text/plain": [
       "x - log(exp(x) + 1)"
      ]
     },
     "execution_count": 12,
     "metadata": {},
     "output_type": "execute_result"
    }
   ],
   "source": [
    "smp.integrate(1/(smp.exp(x) + 1))"
   ]
  },
  {
   "cell_type": "markdown",
   "id": "964bca0a-fb64-4270-80e5-f228b33d8232",
   "metadata": {},
   "source": [
    "Q7. $f(x) = \\int tan(x)$"
   ]
  },
  {
   "cell_type": "code",
   "execution_count": 13,
   "id": "7bf4f5fd-1d42-4173-813f-0f556df4e2c2",
   "metadata": {
    "tags": []
   },
   "outputs": [
    {
     "data": {
      "text/latex": [
       "$\\displaystyle - \\log{\\left(\\cos{\\left(x \\right)} \\right)}$"
      ],
      "text/plain": [
       "-log(cos(x))"
      ]
     },
     "execution_count": 13,
     "metadata": {},
     "output_type": "execute_result"
    }
   ],
   "source": [
    "smp.integrate(smp.tan(x))"
   ]
  },
  {
   "cell_type": "markdown",
   "id": "8d20cbb5-a228-48b9-81e3-e05586266552",
   "metadata": {},
   "source": [
    "That were some basics examples of integration using sympy. Now lets do some basic diffrentiation using it."
   ]
  },
  {
   "cell_type": "markdown",
   "id": "22c72d4b-2ed1-4fb3-b7e4-6ff8aa6dbf9e",
   "metadata": {},
   "source": [
    "$Q1. f(x) = \\tan x$"
   ]
  },
  {
   "cell_type": "code",
   "execution_count": 14,
   "id": "ccc5d25c-9a04-41f7-924b-e830499b32ef",
   "metadata": {
    "tags": []
   },
   "outputs": [
    {
     "data": {
      "text/latex": [
       "$\\displaystyle \\tan^{2}{\\left(x \\right)} + 1$"
      ],
      "text/plain": [
       "tan(x)**2 + 1"
      ]
     },
     "execution_count": 14,
     "metadata": {},
     "output_type": "execute_result"
    }
   ],
   "source": [
    "smp.diff(smp.tan(x),x)"
   ]
  },
  {
   "cell_type": "markdown",
   "id": "001711c4-fa11-4273-b454-050b4ea189c5",
   "metadata": {},
   "source": [
    "$Q2. f(x) = \\sin x$"
   ]
  },
  {
   "cell_type": "code",
   "execution_count": 15,
   "id": "a9f12553-4af0-4178-a588-32157f1c497c",
   "metadata": {
    "tags": []
   },
   "outputs": [
    {
     "data": {
      "text/latex": [
       "$\\displaystyle \\cos{\\left(x \\right)}$"
      ],
      "text/plain": [
       "cos(x)"
      ]
     },
     "execution_count": 15,
     "metadata": {},
     "output_type": "execute_result"
    }
   ],
   "source": [
    "smp.diff(smp.sin(x))"
   ]
  },
  {
   "cell_type": "markdown",
   "id": "c23b8379-970e-4695-904a-b1ad07048a6a",
   "metadata": {},
   "source": [
    "$Q3. f(x) = \\cot x$"
   ]
  },
  {
   "cell_type": "code",
   "execution_count": 16,
   "id": "0273ec01-ff46-4d8d-ad3e-3c1c7c909b36",
   "metadata": {
    "tags": []
   },
   "outputs": [
    {
     "data": {
      "text/latex": [
       "$\\displaystyle - \\cot^{2}{\\left(x \\right)} - 1$"
      ],
      "text/plain": [
       "-cot(x)**2 - 1"
      ]
     },
     "execution_count": 16,
     "metadata": {},
     "output_type": "execute_result"
    }
   ],
   "source": [
    "smp.diff(smp.cot(x))"
   ]
  },
  {
   "cell_type": "markdown",
   "id": "101b3e65-a180-44cc-b5d8-8f6901473359",
   "metadata": {},
   "source": [
    "$Q4. f(x) = \\csc x$"
   ]
  },
  {
   "cell_type": "code",
   "execution_count": 17,
   "id": "f8ad5de5-3288-458c-b8fb-1a201120a7fc",
   "metadata": {
    "tags": []
   },
   "outputs": [
    {
     "data": {
      "text/latex": [
       "$\\displaystyle - \\cot{\\left(x \\right)} \\csc{\\left(x \\right)}$"
      ],
      "text/plain": [
       "-cot(x)*csc(x)"
      ]
     },
     "execution_count": 17,
     "metadata": {},
     "output_type": "execute_result"
    }
   ],
   "source": [
    "smp.diff(smp.csc(x))"
   ]
  },
  {
   "cell_type": "markdown",
   "id": "6eab43e9-44b9-4e14-b502-ba80e6cfe958",
   "metadata": {},
   "source": [
    "$Q5. f(x) = \\sec x$"
   ]
  },
  {
   "cell_type": "code",
   "execution_count": 18,
   "id": "37e35be0-8528-4a5e-b4d1-3dfe03c9d743",
   "metadata": {
    "tags": []
   },
   "outputs": [
    {
     "data": {
      "text/latex": [
       "$\\displaystyle \\tan{\\left(x \\right)} \\sec{\\left(x \\right)}$"
      ],
      "text/plain": [
       "tan(x)*sec(x)"
      ]
     },
     "execution_count": 18,
     "metadata": {},
     "output_type": "execute_result"
    }
   ],
   "source": [
    "smp.diff(smp.sec(x))"
   ]
  },
  {
   "cell_type": "markdown",
   "id": "8dbf832a-2709-4489-899a-c868b1507e92",
   "metadata": {},
   "source": [
    "\n",
    "Those were some basic problems on calculus using sympy. I will get back to it again with more advance problems and techniques in next post."
   ]
  }
 ],
 "metadata": {
  "kernelspec": {
   "display_name": "Python 3 (ipykernel)",
   "language": "python",
   "name": "python3"
  },
  "language_info": {
   "codemirror_mode": {
    "name": "ipython",
    "version": 3
   },
   "file_extension": ".py",
   "mimetype": "text/x-python",
   "name": "python",
   "nbconvert_exporter": "python",
   "pygments_lexer": "ipython3",
   "version": "3.10.6"
  }
 },
 "nbformat": 4,
 "nbformat_minor": 5
}
